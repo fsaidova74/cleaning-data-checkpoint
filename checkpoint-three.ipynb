{
 "cells": [
  {
   "cell_type": "markdown",
   "metadata": {
    "azdata_cell_guid": "26037d32-2047-4157-81ef-595916bd66a0"
   },
   "source": [
    "# Checkpoint Three: Cleaning Data\n",
    "\n",
    "Now you are ready to clean your data. Before starting coding, provide the link to your dataset below.\n",
    "\n",
    "My dataset: https://www.kaggle.com/datasets/CooperUnion/anime-recommendations-database\n",
    "\n",
    "Import the necessary libraries and create your dataframe(s)."
   ]
  },
  {
   "cell_type": "code",
   "execution_count": 1,
   "metadata": {
    "azdata_cell_guid": "e8adef8e-d0f2-4640-a179-5997f11e82ca"
   },
   "outputs": [],
   "source": [
    "import pandas as pd\n",
    "import matplotlib.pyplot as plt\n",
    "import seaborn as sns\n",
    "import numpy as np\n",
    "\n",
    "anime = pd.read_csv('anime.csv')\n",
    "rating = pd.read_csv('rating.csv')"
   ]
  },
  {
   "cell_type": "markdown",
   "metadata": {
    "azdata_cell_guid": "e172475a-c4ee-414a-8367-9965355dbba6"
   },
   "source": [
    "## Missing Data\n",
    "\n",
    "Test your dataset for missing data and handle it as needed. Make notes in the form of code comments as to your thought process."
   ]
  },
  {
   "cell_type": "code",
   "execution_count": 2,
   "metadata": {
    "azdata_cell_guid": "e1dc66ef-e471-4c27-92e7-ee878c106eba"
   },
   "outputs": [
    {
     "name": "stdout",
     "output_type": "stream",
     "text": [
      "<class 'pandas.core.frame.DataFrame'>\n",
      "RangeIndex: 12294 entries, 0 to 12293\n",
      "Data columns (total 7 columns):\n",
      " #   Column    Non-Null Count  Dtype  \n",
      "---  ------    --------------  -----  \n",
      " 0   anime_id  12294 non-null  int64  \n",
      " 1   name      12294 non-null  object \n",
      " 2   genre     12232 non-null  object \n",
      " 3   type      12269 non-null  object \n",
      " 4   episodes  12294 non-null  object \n",
      " 5   rating    12064 non-null  float64\n",
      " 6   members   12294 non-null  int64  \n",
      "dtypes: float64(1), int64(2), object(4)\n",
      "memory usage: 672.5+ KB\n",
      "<class 'pandas.core.frame.DataFrame'>\n",
      "RangeIndex: 7813737 entries, 0 to 7813736\n",
      "Data columns (total 3 columns):\n",
      " #   Column    Dtype\n",
      "---  ------    -----\n",
      " 0   user_id   int64\n",
      " 1   anime_id  int64\n",
      " 2   rating    int64\n",
      "dtypes: int64(3)\n",
      "memory usage: 178.8 MB\n"
     ]
    }
   ],
   "source": [
    "anime.info()\n",
    "rating.info()"
   ]
  },
  {
   "cell_type": "code",
   "execution_count": 3,
   "metadata": {},
   "outputs": [
    {
     "name": "stdout",
     "output_type": "stream",
     "text": [
      "anime_id      0\n",
      "name          0\n",
      "genre        62\n",
      "type         25\n",
      "episodes      0\n",
      "rating      230\n",
      "members       0\n",
      "dtype: int64\n"
     ]
    }
   ],
   "source": [
    "# Check for missing data in the anime dataset\n",
    "print(anime.isnull().sum())"
   ]
  },
  {
   "cell_type": "code",
   "execution_count": 4,
   "metadata": {},
   "outputs": [
    {
     "name": "stdout",
     "output_type": "stream",
     "text": [
      "user_id     0\n",
      "anime_id    0\n",
      "rating      0\n",
      "dtype: int64\n"
     ]
    }
   ],
   "source": [
    "# Check for missing data in the rating dataset\n",
    "print(rating.isnull().sum())"
   ]
  },
  {
   "cell_type": "code",
   "execution_count": 5,
   "metadata": {},
   "outputs": [],
   "source": [
    "# For the 'genre' column, filling missing values with a default value, such as 'Unknown'\n",
    "anime['genre'].fillna('Unknown', inplace=True)"
   ]
  },
  {
   "cell_type": "code",
   "execution_count": 6,
   "metadata": {},
   "outputs": [],
   "source": [
    "# For the 'type' column, filling missing values with a default value, such as 'Unknown'\n",
    "anime['type'].fillna('Unknown', inplace=True)"
   ]
  },
  {
   "cell_type": "code",
   "execution_count": 7,
   "metadata": {},
   "outputs": [],
   "source": [
    "# Since the proportion of missing values is relatively low, \n",
    "# removing the rows with null values in the rating column should not significantly impact my analysis.\n",
    "# In this case, it might be acceptable to drop rows with missing ratings, \n",
    "# as it can help you avoid introducing bias by imputing values.\n",
    "anime.dropna(subset=['rating'], inplace=True)"
   ]
  },
  {
   "cell_type": "code",
   "execution_count": 8,
   "metadata": {},
   "outputs": [
    {
     "name": "stdout",
     "output_type": "stream",
     "text": [
      "anime_id    0\n",
      "name        0\n",
      "genre       0\n",
      "type        0\n",
      "episodes    0\n",
      "rating      0\n",
      "members     0\n",
      "dtype: int64\n"
     ]
    }
   ],
   "source": [
    "print(anime.isnull().sum())"
   ]
  },
  {
   "cell_type": "markdown",
   "metadata": {
    "azdata_cell_guid": "1233f543-e9a0-4f78-96f5-d7536554102e"
   },
   "source": [
    "## Irregular Data\n",
    "\n",
    "Detect outliers in your dataset and handle them as needed. Use code comments to make notes about your thought process."
   ]
  },
  {
   "cell_type": "code",
   "execution_count": 9,
   "metadata": {
    "azdata_cell_guid": "efed50ae-16f0-471d-98e2-632553a74c12"
   },
   "outputs": [
    {
     "name": "stdout",
     "output_type": "stream",
     "text": [
      "Outliers in the 'rating' column:\n",
      "       anime_id                                               name  \\\n",
      "0         32281                                     Kimi no Na wa.   \n",
      "1          5114                   Fullmetal Alchemist: Brotherhood   \n",
      "2         28977                                           Gintama°   \n",
      "3          9253                                        Steins;Gate   \n",
      "4          9969                                      Gintama&#039;   \n",
      "...         ...                                                ...   \n",
      "12263     17825                Ikenai Boy: Ikasu Maruhi Hand Power   \n",
      "12268     23677                               Manga Edo Erobanashi   \n",
      "12270     29994                          Misato-chan no Yume Nikki   \n",
      "12275     29111  Onna Spy Goumon: Teki no Ajito wa Jotai Goumonsho   \n",
      "12278     17833                                    Pink no Curtain   \n",
      "\n",
      "                                                   genre   type episodes  \\\n",
      "0                   Drama, Romance, School, Supernatural  Movie        1   \n",
      "1      Action, Adventure, Drama, Fantasy, Magic, Mili...     TV       64   \n",
      "2      Action, Comedy, Historical, Parody, Samurai, S...     TV       51   \n",
      "3                                       Sci-Fi, Thriller     TV       24   \n",
      "4      Action, Comedy, Historical, Parody, Samurai, S...     TV       51   \n",
      "...                                                  ...    ...      ...   \n",
      "12263                                     Comedy, Hentai    OVA        1   \n",
      "12268                         Comedy, Hentai, Historical    OVA        5   \n",
      "12270                                             Hentai    OVA        1   \n",
      "12275                                             Hentai    OVA        1   \n",
      "12278                              Hentai, Slice of Life    OVA        1   \n",
      "\n",
      "       rating  members  \n",
      "0        9.37   200630  \n",
      "1        9.26   793665  \n",
      "2        9.25   114262  \n",
      "3        9.17   673572  \n",
      "4        9.16   151266  \n",
      "...       ...      ...  \n",
      "12263    3.11      112  \n",
      "12268    2.86      111  \n",
      "12270    3.00      147  \n",
      "12275    3.14      108  \n",
      "12278    3.61      138  \n",
      "\n",
      "[229 rows x 7 columns]\n",
      "Outliers in the 'members' column:\n",
      "       anime_id                              name  \\\n",
      "0         32281                    Kimi no Na wa.   \n",
      "1          5114  Fullmetal Alchemist: Brotherhood   \n",
      "2         28977                          Gintama°   \n",
      "3          9253                       Steins;Gate   \n",
      "4          9969                     Gintama&#039;   \n",
      "...         ...                               ...   \n",
      "11530       746          Papa to Kiss in the Dark   \n",
      "11566      8577            Aki-Sora: Yume no Naka   \n",
      "12209      5391                     Pico to Chico   \n",
      "12213      4866               Pico x CoCo x Chico   \n",
      "12217      1639                      Boku no Pico   \n",
      "\n",
      "                                                   genre   type episodes  \\\n",
      "0                   Drama, Romance, School, Supernatural  Movie        1   \n",
      "1      Action, Adventure, Drama, Fantasy, Magic, Mili...     TV       64   \n",
      "2      Action, Comedy, Historical, Parody, Samurai, S...     TV       51   \n",
      "3                                       Sci-Fi, Thriller     TV       24   \n",
      "4      Action, Comedy, Historical, Parody, Samurai, S...     TV       51   \n",
      "...                                                  ...    ...      ...   \n",
      "11530                       Comedy, Drama, Romance, Yaoi    OVA        2   \n",
      "11566                       Ecchi, Romance, Seinen, Yuri    OVA        2   \n",
      "12209                                       Hentai, Yaoi    OVA        1   \n",
      "12213                                       Hentai, Yaoi    OVA        1   \n",
      "12217                                       Hentai, Yaoi    OVA        1   \n",
      "\n",
      "       rating  members  \n",
      "0        9.37   200630  \n",
      "1        9.26   793665  \n",
      "2        9.25   114262  \n",
      "3        9.17   673572  \n",
      "4        9.16   151266  \n",
      "...       ...      ...  \n",
      "11530    6.47    28620  \n",
      "11566    6.41    37519  \n",
      "12209    5.19    29463  \n",
      "12213    5.16    27411  \n",
      "12217    5.13    57355  \n",
      "\n",
      "[1884 rows x 7 columns]\n"
     ]
    }
   ],
   "source": [
    "# Finding outliers:\n",
    "\n",
    "# Calculate the 1st quartile (Q1) and 3rd quartile (Q3) for the 'rating' column\n",
    "Q1_rating = anime['rating'].quantile(0.25)\n",
    "Q3_rating = anime['rating'].quantile(0.75)\n",
    "\n",
    "# Calculate the IQR for the 'rating' column\n",
    "IQR_rating = Q3_rating - Q1_rating\n",
    "\n",
    "# Define the upper and lower bounds for outliers in the 'rating' column\n",
    "lower_bound_rating = Q1_rating - 1.5 * IQR_rating\n",
    "upper_bound_rating = Q3_rating + 1.5 * IQR_rating\n",
    "\n",
    "# Calculate the 1st quartile (Q1) and 3rd quartile (Q3) for the 'members' column\n",
    "Q1_members = anime['members'].quantile(0.25)\n",
    "Q3_members = anime['members'].quantile(0.75)\n",
    "\n",
    "# Calculate the IQR for the 'members' column\n",
    "IQR_members = Q3_members - Q1_members\n",
    "\n",
    "# Define the upper and lower bounds for outliers in the 'members' column\n",
    "lower_bound_members = Q1_members - 1.5 * IQR_members\n",
    "upper_bound_members = Q3_members + 1.5 * IQR_members\n",
    "\n",
    "# Find the outliers in the 'rating' and 'members' columns\n",
    "outliers_rating = anime[(anime['rating'] < lower_bound_rating) | (anime['rating'] > upper_bound_rating)]\n",
    "outliers_members = anime[(anime['members'] < lower_bound_members) | (anime['members'] > upper_bound_members)]\n",
    "\n",
    "# Print the outliers\n",
    "print(\"Outliers in the 'rating' column:\")\n",
    "print(outliers_rating)\n",
    "print(\"Outliers in the 'members' column:\")\n",
    "print(outliers_members)"
   ]
  },
  {
   "cell_type": "code",
   "execution_count": 10,
   "metadata": {
    "scrolled": true
   },
   "outputs": [
    {
     "data": {
      "image/png": "[encoded data removed]",
      "text/plain": [
       "<Figure size 1000x600 with 1 Axes>"
      ]
     },
     "metadata": {},
     "output_type": "display_data"
    },
    {
     "data": {
      "image/png": "[encoded data removed]",
      "text/plain": [
       "<Figure size 1000x600 with 1 Axes>"
      ]
     },
     "metadata": {},
     "output_type": "display_data"
    }
   ],
   "source": [
    "# Visualizing outliers for better understanding.\n",
    "\n",
    "\n",
    "plt.figure(figsize=(10, 6))\n",
    "plt.scatter(anime['anime_id'], anime['rating'])\n",
    "plt.xlabel('Anime ID')\n",
    "plt.ylabel('Rating')\n",
    "plt.title('Scatter plot of Anime Ratings')\n",
    "plt.show()\n",
    "\n",
    "plt.figure(figsize=(10, 6))\n",
    "plt.scatter(anime['anime_id'], anime['members'])\n",
    "plt.xlabel('Anime ID')\n",
    "plt.ylabel('Members')\n",
    "plt.title('Scatter plot of Anime Members')\n",
    "plt.show()"
   ]
  },
  {
   "cell_type": "code",
   "execution_count": 11,
   "metadata": {},
   "outputs": [],
   "source": [
    "# The only thing I am considering unnecessary data is episode column,\n",
    "# but as of right now I think I would like to keep it since it might help me with visualization\n",
    "\n",
    "#The inconsistency was found in the 'name' column of the anime dataset.\n",
    "#Non-alphanumeric characters were replaced with spaces, extra spaces were removed, and HTML entities were decoded.\n",
    "\n",
    "import re\n",
    "import html\n",
    "\n",
    "\n",
    "def clean_anime_name(name):\n",
    "    # Decode HTML entities\n",
    "    name = html.unescape(name)\n",
    "    \n",
    "    # Replace non-alphanumeric characters with spaces\n",
    "    name = re.sub(r'[^a-zA-Z0-9\\s]', ' ', name)\n",
    "    \n",
    "    # Remove extra spaces\n",
    "    name = re.sub(r'\\s+', ' ', name).strip()\n",
    "    \n",
    "    return name\n",
    "\n",
    "anime['name'] = anime['name'].apply(clean_anime_name)"
   ]
  },
  {
   "cell_type": "code",
   "execution_count": 12,
   "metadata": {},
   "outputs": [
    {
     "data": {
      "text/html": [
       "<div>\n",
       "<style scoped>\n",
       "    .dataframe tbody tr th:only-of-type {\n",
       "        vertical-align: middle;\n",
       "    }\n",
       "\n",
       "    .dataframe tbody tr th {\n",
       "        vertical-align: top;\n",
       "    }\n",
       "\n",
       "    .dataframe thead th {\n",
       "        text-align: right;\n",
       "    }\n",
       "</style>\n",
       "<table border=\"1\" class=\"dataframe\">\n",
       "  <thead>\n",
       "    <tr style=\"text-align: right;\">\n",
       "      <th></th>\n",
       "      <th>user_id</th>\n",
       "      <th>anime_id</th>\n",
       "      <th>rating</th>\n",
       "    </tr>\n",
       "  </thead>\n",
       "  <tbody>\n",
       "    <tr>\n",
       "      <th>0</th>\n",
       "      <td>1</td>\n",
       "      <td>20</td>\n",
       "      <td>-1</td>\n",
       "    </tr>\n",
       "    <tr>\n",
       "      <th>1</th>\n",
       "      <td>1</td>\n",
       "      <td>24</td>\n",
       "      <td>-1</td>\n",
       "    </tr>\n",
       "    <tr>\n",
       "      <th>2</th>\n",
       "      <td>1</td>\n",
       "      <td>79</td>\n",
       "      <td>-1</td>\n",
       "    </tr>\n",
       "    <tr>\n",
       "      <th>3</th>\n",
       "      <td>1</td>\n",
       "      <td>226</td>\n",
       "      <td>-1</td>\n",
       "    </tr>\n",
       "    <tr>\n",
       "      <th>4</th>\n",
       "      <td>1</td>\n",
       "      <td>241</td>\n",
       "      <td>-1</td>\n",
       "    </tr>\n",
       "    <tr>\n",
       "      <th>5</th>\n",
       "      <td>1</td>\n",
       "      <td>355</td>\n",
       "      <td>-1</td>\n",
       "    </tr>\n",
       "    <tr>\n",
       "      <th>6</th>\n",
       "      <td>1</td>\n",
       "      <td>356</td>\n",
       "      <td>-1</td>\n",
       "    </tr>\n",
       "    <tr>\n",
       "      <th>7</th>\n",
       "      <td>1</td>\n",
       "      <td>442</td>\n",
       "      <td>-1</td>\n",
       "    </tr>\n",
       "    <tr>\n",
       "      <th>8</th>\n",
       "      <td>1</td>\n",
       "      <td>487</td>\n",
       "      <td>-1</td>\n",
       "    </tr>\n",
       "    <tr>\n",
       "      <th>9</th>\n",
       "      <td>1</td>\n",
       "      <td>846</td>\n",
       "      <td>-1</td>\n",
       "    </tr>\n",
       "  </tbody>\n",
       "</table>\n",
       "</div>"
      ],
      "text/plain": [
       "   user_id  anime_id  rating\n",
       "0        1        20      -1\n",
       "1        1        24      -1\n",
       "2        1        79      -1\n",
       "3        1       226      -1\n",
       "4        1       241      -1\n",
       "5        1       355      -1\n",
       "6        1       356      -1\n",
       "7        1       442      -1\n",
       "8        1       487      -1\n",
       "9        1       846      -1"
      ]
     },
     "execution_count": 12,
     "metadata": {},
     "output_type": "execute_result"
    }
   ],
   "source": [
    "rating.head(10)"
   ]
  },
  {
   "cell_type": "markdown",
   "metadata": {
    "azdata_cell_guid": "6f5b8ee0-bab3-44bc-958a-67d1e4c0407f"
   },
   "source": [
    "## Unnecessary Data\n",
    "\n",
    "Look for the different types of unnecessary data in your dataset and address it as needed. Make sure to use code comments to illustrate your thought process."
   ]
  },
  {
   "cell_type": "code",
   "execution_count": 13,
   "metadata": {
    "azdata_cell_guid": "e788a239-2fbf-41de-9bd3-19e52e3b187c"
   },
   "outputs": [
    {
     "name": "stdout",
     "output_type": "stream",
     "text": [
      "Number of duplicate rows: 0\n"
     ]
    }
   ],
   "source": [
    "# Checking for duplicate entries: \n",
    "duplicate_rows = anime[anime.duplicated()]\n",
    "print(\"Number of duplicate rows:\", duplicate_rows.shape[0])"
   ]
  },
  {
   "cell_type": "code",
   "execution_count": 14,
   "metadata": {},
   "outputs": [
    {
     "name": "stdout",
     "output_type": "stream",
     "text": [
      "Number of duplicate rows: 1\n"
     ]
    }
   ],
   "source": [
    "duplicate_rows = rating[rating.duplicated()]\n",
    "print(\"Number of duplicate rows:\", duplicate_rows.shape[0])"
   ]
  },
  {
   "cell_type": "code",
   "execution_count": 15,
   "metadata": {},
   "outputs": [],
   "source": [
    "rating = rating.drop_duplicates()"
   ]
  },
  {
   "cell_type": "markdown",
   "metadata": {
    "azdata_cell_guid": "53e0cf94-c68a-4fa0-9849-9505a66bcce6"
   },
   "source": [
    "## Inconsistent Data\n",
    "\n",
    "Check for inconsistent data and address any that arises. As always, use code comments to illustrate your thought process."
   ]
  },
  {
   "cell_type": "code",
   "execution_count": 16,
   "metadata": {},
   "outputs": [],
   "source": [
    "# Filter the 'rating' dataframe to only include the first 100 users\n",
    "filtered_rating = rating[rating['user_id'].isin(range(1, 101))]"
   ]
  },
  {
   "cell_type": "code",
   "execution_count": 17,
   "metadata": {
    "azdata_cell_guid": "e9de6624-812a-43f8-8e20-93b4a49b091f"
   },
   "outputs": [],
   "source": [
    "# Split the genre column into a list of genres\n",
    "anime['genre'] = anime['genre'].apply(lambda x: x.split(\", \"))"
   ]
  },
  {
   "cell_type": "code",
   "execution_count": 18,
   "metadata": {},
   "outputs": [],
   "source": [
    "# Explode the genre lists into separate rows\n",
    "anime = anime.explode('genre')"
   ]
  },
  {
   "cell_type": "code",
   "execution_count": 19,
   "metadata": {},
   "outputs": [],
   "source": [
    "def expand_genres_and_calculate_avg(df):\n",
    "    return df.groupby('genre')['rating'].mean().sort_values(ascending=False)"
   ]
  },
  {
   "cell_type": "code",
   "execution_count": 20,
   "metadata": {},
   "outputs": [],
   "source": [
    "# Apply the function to calculate the average ratings\n",
    "average_ratings = expand_genres_and_calculate_avg(anime)"
   ]
  },
  {
   "cell_type": "code",
   "execution_count": 21,
   "metadata": {},
   "outputs": [
    {
     "name": "stdout",
     "output_type": "stream",
     "text": [
      "genre\n",
      "Josei            7.443077\n",
      "Thriller         7.382326\n",
      "Mystery          7.232412\n",
      "Police           7.122051\n",
      "Shounen          7.057553\n",
      "Psychological    7.010398\n",
      "Military         7.004904\n",
      "Supernatural     7.000380\n",
      "Romance          6.999054\n",
      "Shoujo Ai        6.978148\n",
      "Drama            6.977218\n",
      "School           6.972049\n",
      "Seinen           6.966353\n",
      "Harem            6.965687\n",
      "Shounen Ai       6.961613\n",
      "Super Power      6.906785\n",
      "Vampire          6.884600\n",
      "Shoujo           6.875976\n",
      "Samurai          6.853836\n",
      "Martial Arts     6.819356\n",
      "Magic            6.805890\n",
      "Action           6.787150\n",
      "Game             6.783333\n",
      "Sports           6.777974\n",
      "Historical       6.746216\n",
      "Adventure        6.742539\n",
      "Slice of Life    6.730498\n",
      "Sci-Fi           6.701488\n",
      "Space            6.683395\n",
      "Demons           6.676307\n",
      "Fantasy          6.673671\n",
      "Ecchi            6.666640\n",
      "Mecha            6.644790\n",
      "Comedy           6.622402\n",
      "Parody           6.494938\n",
      "Cars             6.468611\n",
      "Yaoi             6.433684\n",
      "Horror           6.426851\n",
      "Hentai           6.181280\n",
      "Kids             6.113229\n",
      "Yuri             6.088537\n",
      "Music            5.923017\n",
      "Unknown          5.358511\n",
      "Dementia         5.011681\n",
      "Name: rating, dtype: float64\n"
     ]
    }
   ],
   "source": [
    "# Print the calculated average ratings\n",
    "print(average_ratings)"
   ]
  },
  {
   "cell_type": "code",
   "execution_count": 22,
   "metadata": {},
   "outputs": [],
   "source": [
    "# Merge the two datasets on the 'anime_id' column\n",
    "merged_df = pd.merge(filtered_rating, anime, on='anime_id', how='inner')"
   ]
  },
  {
   "cell_type": "code",
   "execution_count": 23,
   "metadata": {},
   "outputs": [
    {
     "name": "stdout",
     "output_type": "stream",
     "text": [
      "The rating DataFrame now has 8278 rows and 3 columns.\n"
     ]
    }
   ],
   "source": [
    "print(f\"The rating DataFrame now has {filtered_rating.shape[0]} rows and {filtered_rating.shape[1]} columns.\")"
   ]
  },
  {
   "cell_type": "code",
   "execution_count": 24,
   "metadata": {},
   "outputs": [
    {
     "name": "stdout",
     "output_type": "stream",
     "text": [
      "The rating DataFrame now has 7813736 rows and 3 columns.\n"
     ]
    }
   ],
   "source": [
    "print(f\"The rating DataFrame now has {rating.shape[0]} rows and {rating.shape[1]} columns.\")"
   ]
  },
  {
   "cell_type": "code",
   "execution_count": 25,
   "metadata": {},
   "outputs": [
    {
     "name": "stdout",
     "output_type": "stream",
     "text": [
      "       user_id  anime_id  rating_x                            name  \\\n",
      "0            1        20        -1                          Naruto   \n",
      "1            1        20        -1                          Naruto   \n",
      "2            1        20        -1                          Naruto   \n",
      "3            1        20        -1                          Naruto   \n",
      "4            1        20        -1                          Naruto   \n",
      "...        ...       ...       ...                             ...   \n",
      "37195       99     21845         2  Ushinawareta Mirai wo Motomete   \n",
      "37196       99     32281         5                   Kimi no Na wa   \n",
      "37197       99     32281         5                   Kimi no Na wa   \n",
      "37198       99     32281         5                   Kimi no Na wa   \n",
      "37199       99     32281         5                   Kimi no Na wa   \n",
      "\n",
      "              genre   type episodes  rating_y  members  \n",
      "0            Action     TV      220      7.81   683297  \n",
      "1            Comedy     TV      220      7.81   683297  \n",
      "2      Martial Arts     TV      220      7.81   683297  \n",
      "3           Shounen     TV      220      7.81   683297  \n",
      "4       Super Power     TV      220      7.81   683297  \n",
      "...             ...    ...      ...       ...      ...  \n",
      "37195        Sci-Fi     TV       12      6.83    47565  \n",
      "37196         Drama  Movie        1      9.37   200630  \n",
      "37197       Romance  Movie        1      9.37   200630  \n",
      "37198        School  Movie        1      9.37   200630  \n",
      "37199  Supernatural  Movie        1      9.37   200630  \n",
      "\n",
      "[37200 rows x 9 columns]\n"
     ]
    }
   ],
   "source": [
    "print(merged_df)"
   ]
  },
  {
   "cell_type": "code",
   "execution_count": 26,
   "metadata": {},
   "outputs": [],
   "source": [
    "# Only include rows where rating_x is not equal to -1\n",
    "filtered_df = merged_df[merged_df['rating_x'] != -1]"
   ]
  },
  {
   "cell_type": "code",
   "execution_count": 27,
   "metadata": {},
   "outputs": [],
   "source": [
    "# Then group by 'genre' and calculate the mean\n",
    "avg_rating_per_genre = filtered_df.groupby('genre')['rating_x'].mean()"
   ]
  },
  {
   "cell_type": "code",
   "execution_count": 28,
   "metadata": {},
   "outputs": [
    {
     "name": "stdout",
     "output_type": "stream",
     "text": [
      "genre\n",
      "Action           7.775322\n",
      "Adventure        7.992260\n",
      "Cars             7.600000\n",
      "Comedy           7.541321\n",
      "Dementia         8.489796\n",
      "Demons           7.649123\n",
      "Drama            8.075652\n",
      "Ecchi            6.532959\n",
      "Fantasy          7.806763\n",
      "Game             7.891626\n",
      "Harem            6.766764\n",
      "Hentai           7.458333\n",
      "Historical       8.228477\n",
      "Horror           7.490741\n",
      "Josei            8.105263\n",
      "Kids             7.629371\n",
      "Magic            7.765921\n",
      "Martial Arts     7.344262\n",
      "Mecha            7.960340\n",
      "Military         8.361702\n",
      "Music            7.938931\n",
      "Mystery          7.964529\n",
      "Parody           7.655172\n",
      "Police           8.223140\n",
      "Psychological    8.059642\n",
      "Romance          7.502896\n",
      "Samurai          8.105769\n",
      "School           7.465278\n",
      "Sci-Fi           7.676166\n",
      "Seinen           7.562883\n",
      "Shoujo           7.986523\n",
      "Shoujo Ai        7.173077\n",
      "Shounen          7.765041\n",
      "Shounen Ai       7.256410\n",
      "Slice of Life    7.878821\n",
      "Space            8.106667\n",
      "Sports           7.904167\n",
      "Super Power      7.794165\n",
      "Supernatural     7.800000\n",
      "Thriller         8.347107\n",
      "Vampire          7.527778\n",
      "Yaoi             8.600000\n",
      "Yuri             7.333333\n",
      "Name: rating_x, dtype: float64\n"
     ]
    }
   ],
   "source": [
    "print(avg_rating_per_genre)"
   ]
  },
  {
   "cell_type": "code",
   "execution_count": 29,
   "metadata": {},
   "outputs": [
    {
     "data": {
      "image/png": "[encoded data removed]",
      "text/plain": [
       "<Figure size 1200x600 with 1 Axes>"
      ]
     },
     "metadata": {},
     "output_type": "display_data"
    }
   ],
   "source": [
    "import matplotlib.pyplot as plt\n",
    "\n",
    "avg_rating_per_genre.sort_values(ascending=False).plot(kind='bar', figsize=(12, 6))\n",
    "plt.title('Average User Ratings per Genre')\n",
    "plt.xlabel('Genre')\n",
    "plt.ylabel('Average Rating')\n",
    "plt.show()"
   ]
  },
  {
   "cell_type": "code",
   "execution_count": 30,
   "metadata": {},
   "outputs": [
    {
     "data": {
      "text/html": [
       "<div>\n",
       "<style scoped>\n",
       "    .dataframe tbody tr th:only-of-type {\n",
       "        vertical-align: middle;\n",
       "    }\n",
       "\n",
       "    .dataframe tbody tr th {\n",
       "        vertical-align: top;\n",
       "    }\n",
       "\n",
       "    .dataframe thead th {\n",
       "        text-align: right;\n",
       "    }\n",
       "</style>\n",
       "<table border=\"1\" class=\"dataframe\">\n",
       "  <thead>\n",
       "    <tr style=\"text-align: right;\">\n",
       "      <th></th>\n",
       "      <th>user_id</th>\n",
       "      <th>anime_id</th>\n",
       "      <th>rating_x</th>\n",
       "      <th>name</th>\n",
       "      <th>genre</th>\n",
       "      <th>type</th>\n",
       "      <th>episodes</th>\n",
       "      <th>rating_y</th>\n",
       "      <th>members</th>\n",
       "    </tr>\n",
       "  </thead>\n",
       "  <tbody>\n",
       "    <tr>\n",
       "      <th>0</th>\n",
       "      <td>1</td>\n",
       "      <td>20</td>\n",
       "      <td>-1</td>\n",
       "      <td>Naruto</td>\n",
       "      <td>Action</td>\n",
       "      <td>TV</td>\n",
       "      <td>220</td>\n",
       "      <td>7.81</td>\n",
       "      <td>683297</td>\n",
       "    </tr>\n",
       "    <tr>\n",
       "      <th>1</th>\n",
       "      <td>1</td>\n",
       "      <td>20</td>\n",
       "      <td>-1</td>\n",
       "      <td>Naruto</td>\n",
       "      <td>Comedy</td>\n",
       "      <td>TV</td>\n",
       "      <td>220</td>\n",
       "      <td>7.81</td>\n",
       "      <td>683297</td>\n",
       "    </tr>\n",
       "    <tr>\n",
       "      <th>2</th>\n",
       "      <td>1</td>\n",
       "      <td>20</td>\n",
       "      <td>-1</td>\n",
       "      <td>Naruto</td>\n",
       "      <td>Martial Arts</td>\n",
       "      <td>TV</td>\n",
       "      <td>220</td>\n",
       "      <td>7.81</td>\n",
       "      <td>683297</td>\n",
       "    </tr>\n",
       "    <tr>\n",
       "      <th>3</th>\n",
       "      <td>1</td>\n",
       "      <td>20</td>\n",
       "      <td>-1</td>\n",
       "      <td>Naruto</td>\n",
       "      <td>Shounen</td>\n",
       "      <td>TV</td>\n",
       "      <td>220</td>\n",
       "      <td>7.81</td>\n",
       "      <td>683297</td>\n",
       "    </tr>\n",
       "    <tr>\n",
       "      <th>4</th>\n",
       "      <td>1</td>\n",
       "      <td>20</td>\n",
       "      <td>-1</td>\n",
       "      <td>Naruto</td>\n",
       "      <td>Super Power</td>\n",
       "      <td>TV</td>\n",
       "      <td>220</td>\n",
       "      <td>7.81</td>\n",
       "      <td>683297</td>\n",
       "    </tr>\n",
       "    <tr>\n",
       "      <th>5</th>\n",
       "      <td>3</td>\n",
       "      <td>20</td>\n",
       "      <td>8</td>\n",
       "      <td>Naruto</td>\n",
       "      <td>Action</td>\n",
       "      <td>TV</td>\n",
       "      <td>220</td>\n",
       "      <td>7.81</td>\n",
       "      <td>683297</td>\n",
       "    </tr>\n",
       "    <tr>\n",
       "      <th>6</th>\n",
       "      <td>3</td>\n",
       "      <td>20</td>\n",
       "      <td>8</td>\n",
       "      <td>Naruto</td>\n",
       "      <td>Comedy</td>\n",
       "      <td>TV</td>\n",
       "      <td>220</td>\n",
       "      <td>7.81</td>\n",
       "      <td>683297</td>\n",
       "    </tr>\n",
       "    <tr>\n",
       "      <th>7</th>\n",
       "      <td>3</td>\n",
       "      <td>20</td>\n",
       "      <td>8</td>\n",
       "      <td>Naruto</td>\n",
       "      <td>Martial Arts</td>\n",
       "      <td>TV</td>\n",
       "      <td>220</td>\n",
       "      <td>7.81</td>\n",
       "      <td>683297</td>\n",
       "    </tr>\n",
       "    <tr>\n",
       "      <th>8</th>\n",
       "      <td>3</td>\n",
       "      <td>20</td>\n",
       "      <td>8</td>\n",
       "      <td>Naruto</td>\n",
       "      <td>Shounen</td>\n",
       "      <td>TV</td>\n",
       "      <td>220</td>\n",
       "      <td>7.81</td>\n",
       "      <td>683297</td>\n",
       "    </tr>\n",
       "    <tr>\n",
       "      <th>9</th>\n",
       "      <td>3</td>\n",
       "      <td>20</td>\n",
       "      <td>8</td>\n",
       "      <td>Naruto</td>\n",
       "      <td>Super Power</td>\n",
       "      <td>TV</td>\n",
       "      <td>220</td>\n",
       "      <td>7.81</td>\n",
       "      <td>683297</td>\n",
       "    </tr>\n",
       "    <tr>\n",
       "      <th>10</th>\n",
       "      <td>5</td>\n",
       "      <td>20</td>\n",
       "      <td>6</td>\n",
       "      <td>Naruto</td>\n",
       "      <td>Action</td>\n",
       "      <td>TV</td>\n",
       "      <td>220</td>\n",
       "      <td>7.81</td>\n",
       "      <td>683297</td>\n",
       "    </tr>\n",
       "    <tr>\n",
       "      <th>11</th>\n",
       "      <td>5</td>\n",
       "      <td>20</td>\n",
       "      <td>6</td>\n",
       "      <td>Naruto</td>\n",
       "      <td>Comedy</td>\n",
       "      <td>TV</td>\n",
       "      <td>220</td>\n",
       "      <td>7.81</td>\n",
       "      <td>683297</td>\n",
       "    </tr>\n",
       "    <tr>\n",
       "      <th>12</th>\n",
       "      <td>5</td>\n",
       "      <td>20</td>\n",
       "      <td>6</td>\n",
       "      <td>Naruto</td>\n",
       "      <td>Martial Arts</td>\n",
       "      <td>TV</td>\n",
       "      <td>220</td>\n",
       "      <td>7.81</td>\n",
       "      <td>683297</td>\n",
       "    </tr>\n",
       "    <tr>\n",
       "      <th>13</th>\n",
       "      <td>5</td>\n",
       "      <td>20</td>\n",
       "      <td>6</td>\n",
       "      <td>Naruto</td>\n",
       "      <td>Shounen</td>\n",
       "      <td>TV</td>\n",
       "      <td>220</td>\n",
       "      <td>7.81</td>\n",
       "      <td>683297</td>\n",
       "    </tr>\n",
       "    <tr>\n",
       "      <th>14</th>\n",
       "      <td>5</td>\n",
       "      <td>20</td>\n",
       "      <td>6</td>\n",
       "      <td>Naruto</td>\n",
       "      <td>Super Power</td>\n",
       "      <td>TV</td>\n",
       "      <td>220</td>\n",
       "      <td>7.81</td>\n",
       "      <td>683297</td>\n",
       "    </tr>\n",
       "    <tr>\n",
       "      <th>15</th>\n",
       "      <td>6</td>\n",
       "      <td>20</td>\n",
       "      <td>-1</td>\n",
       "      <td>Naruto</td>\n",
       "      <td>Action</td>\n",
       "      <td>TV</td>\n",
       "      <td>220</td>\n",
       "      <td>7.81</td>\n",
       "      <td>683297</td>\n",
       "    </tr>\n",
       "    <tr>\n",
       "      <th>16</th>\n",
       "      <td>6</td>\n",
       "      <td>20</td>\n",
       "      <td>-1</td>\n",
       "      <td>Naruto</td>\n",
       "      <td>Comedy</td>\n",
       "      <td>TV</td>\n",
       "      <td>220</td>\n",
       "      <td>7.81</td>\n",
       "      <td>683297</td>\n",
       "    </tr>\n",
       "    <tr>\n",
       "      <th>17</th>\n",
       "      <td>6</td>\n",
       "      <td>20</td>\n",
       "      <td>-1</td>\n",
       "      <td>Naruto</td>\n",
       "      <td>Martial Arts</td>\n",
       "      <td>TV</td>\n",
       "      <td>220</td>\n",
       "      <td>7.81</td>\n",
       "      <td>683297</td>\n",
       "    </tr>\n",
       "    <tr>\n",
       "      <th>18</th>\n",
       "      <td>6</td>\n",
       "      <td>20</td>\n",
       "      <td>-1</td>\n",
       "      <td>Naruto</td>\n",
       "      <td>Shounen</td>\n",
       "      <td>TV</td>\n",
       "      <td>220</td>\n",
       "      <td>7.81</td>\n",
       "      <td>683297</td>\n",
       "    </tr>\n",
       "    <tr>\n",
       "      <th>19</th>\n",
       "      <td>6</td>\n",
       "      <td>20</td>\n",
       "      <td>-1</td>\n",
       "      <td>Naruto</td>\n",
       "      <td>Super Power</td>\n",
       "      <td>TV</td>\n",
       "      <td>220</td>\n",
       "      <td>7.81</td>\n",
       "      <td>683297</td>\n",
       "    </tr>\n",
       "  </tbody>\n",
       "</table>\n",
       "</div>"
      ],
      "text/plain": [
       "    user_id  anime_id  rating_x    name         genre type episodes  rating_y  \\\n",
       "0         1        20        -1  Naruto        Action   TV      220      7.81   \n",
       "1         1        20        -1  Naruto        Comedy   TV      220      7.81   \n",
       "2         1        20        -1  Naruto  Martial Arts   TV      220      7.81   \n",
       "3         1        20        -1  Naruto       Shounen   TV      220      7.81   \n",
       "4         1        20        -1  Naruto   Super Power   TV      220      7.81   \n",
       "5         3        20         8  Naruto        Action   TV      220      7.81   \n",
       "6         3        20         8  Naruto        Comedy   TV      220      7.81   \n",
       "7         3        20         8  Naruto  Martial Arts   TV      220      7.81   \n",
       "8         3        20         8  Naruto       Shounen   TV      220      7.81   \n",
       "9         3        20         8  Naruto   Super Power   TV      220      7.81   \n",
       "10        5        20         6  Naruto        Action   TV      220      7.81   \n",
       "11        5        20         6  Naruto        Comedy   TV      220      7.81   \n",
       "12        5        20         6  Naruto  Martial Arts   TV      220      7.81   \n",
       "13        5        20         6  Naruto       Shounen   TV      220      7.81   \n",
       "14        5        20         6  Naruto   Super Power   TV      220      7.81   \n",
       "15        6        20        -1  Naruto        Action   TV      220      7.81   \n",
       "16        6        20        -1  Naruto        Comedy   TV      220      7.81   \n",
       "17        6        20        -1  Naruto  Martial Arts   TV      220      7.81   \n",
       "18        6        20        -1  Naruto       Shounen   TV      220      7.81   \n",
       "19        6        20        -1  Naruto   Super Power   TV      220      7.81   \n",
       "\n",
       "    members  \n",
       "0    683297  \n",
       "1    683297  \n",
       "2    683297  \n",
       "3    683297  \n",
       "4    683297  \n",
       "5    683297  \n",
       "6    683297  \n",
       "7    683297  \n",
       "8    683297  \n",
       "9    683297  \n",
       "10   683297  \n",
       "11   683297  \n",
       "12   683297  \n",
       "13   683297  \n",
       "14   683297  \n",
       "15   683297  \n",
       "16   683297  \n",
       "17   683297  \n",
       "18   683297  \n",
       "19   683297  "
      ]
     },
     "execution_count": 30,
     "metadata": {},
     "output_type": "execute_result"
    }
   ],
   "source": [
    "# Let's have a look at the DataFrame now\n",
    "merged_df.head(20)"
   ]
  },
  {
   "cell_type": "code",
   "execution_count": 31,
   "metadata": {},
   "outputs": [],
   "source": [
    "from sklearn.preprocessing import MultiLabelBinarizer\n",
    "# Filter out rows where rating_x is -1 or NaN\n",
    "merged_df = merged_df[merged_df['rating_x'] > 0]"
   ]
  },
  {
   "cell_type": "code",
   "execution_count": 32,
   "metadata": {},
   "outputs": [],
   "source": [
    "#Use MultiLabelBinarizer to transform the genre column into multiple binary columns.\n",
    "mlb = MultiLabelBinarizer()\n",
    "\n",
    "# Ensure the genres are list-like so that they can be processed by MultiLabelBinarizer\n",
    "merged_df['genre'] = merged_df['genre'].apply(lambda x: [x])\n",
    "\n",
    "# Fit transform the genres\n",
    "genres_encoded = mlb.fit_transform(merged_df['genre'])\n",
    "\n",
    "# Convert the results to a DataFrame\n",
    "genres_df = pd.DataFrame(genres_encoded, columns=mlb.classes_, index=merged_df.index)\n",
    "\n",
    "# Concatenate the original DataFrame with the genres DataFrame\n",
    "merged_df = pd.concat([merged_df, genres_df], axis=1)"
   ]
  },
  {
   "cell_type": "code",
   "execution_count": 33,
   "metadata": {},
   "outputs": [],
   "source": [
    "# A user-item interaction matrix with users as rows, animes as columns, and user ratings as values.\n",
    "user_item_matrix = merged_df.pivot_table(index='user_id', columns='name', values='rating_x')"
   ]
  },
  {
   "cell_type": "code",
   "execution_count": 34,
   "metadata": {},
   "outputs": [
    {
     "name": "stdout",
     "output_type": "stream",
     "text": [
      "C:\\Users\\farkh\\anaconda3\\python.exe\n"
     ]
    }
   ],
   "source": [
    "import sys\n",
    "print(sys.executable)"
   ]
  },
  {
   "cell_type": "code",
   "execution_count": 35,
   "metadata": {},
   "outputs": [
    {
     "name": "stdout",
     "output_type": "stream",
     "text": [
      "<class 'surprise.prediction_algorithms.matrix_factorization.SVD'>\n"
     ]
    }
   ],
   "source": [
    "from surprise import SVD\n",
    "print(SVD)"
   ]
  },
  {
   "cell_type": "code",
   "execution_count": 36,
   "metadata": {},
   "outputs": [
    {
     "data": {
      "text/plain": [
       "{'test_rmse': array([3.27348499, 3.25084235, 3.25153989, 3.2626562 , 3.25957889]),\n",
       " 'fit_time': (1.4327902793884277,\n",
       "  1.3895149230957031,\n",
       "  1.3513102531433105,\n",
       "  1.3925740718841553,\n",
       "  1.4282684326171875),\n",
       " 'test_time': (0.06439423561096191,\n",
       "  0.04331707954406738,\n",
       "  0.034589529037475586,\n",
       "  0.03124260902404785,\n",
       "  0.03223919868469238)}"
      ]
     },
     "execution_count": 36,
     "metadata": {},
     "output_type": "execute_result"
    }
   ],
   "source": [
    "from surprise import Reader, Dataset, SVD\n",
    "from surprise.model_selection import cross_validate\n",
    "\n",
    "# Define a Reader object\n",
    "# The Reader object helps in parsing the file or dataframe containing ratings\n",
    "reader = Reader()\n",
    "\n",
    "# Create the dataset to be used for building the filter\n",
    "data = Dataset.load_from_df(merged_df[['user_id', 'anime_id', 'rating_x']], reader)\n",
    "\n",
    "# Define the algorithm object; in this case SVD\n",
    "svd = SVD()\n",
    "\n",
    "# Evaluate the performance in terms of RMSE\n",
    "cross_validate(svd, data, measures=['RMSE'])"
   ]
  },
  {
   "cell_type": "code",
   "execution_count": 38,
   "metadata": {},
   "outputs": [
    {
     "name": "stdout",
     "output_type": "stream",
     "text": [
      "Computing the msd similarity matrix...\n",
      "Done computing similarity matrix.\n",
      "user: 1          item: 300        r_ui = None   est = 5.00   {'was_impossible': True, 'reason': 'User and/or item is unknown.'}\n"
     ]
    }
   ],
   "source": [
    "from surprise import KNNBasic\n",
    "\n",
    "# Define a KNN model\n",
    "knn = KNNBasic()\n",
    "\n",
    "# Retrieve the trainset.\n",
    "trainset = data.build_full_trainset()\n",
    "\n",
    "# Fit the model\n",
    "knn.fit(trainset)\n",
    "\n",
    "# Predict a certain item\n",
    "userid = str(1)\n",
    "itemid = str(300)\n",
    "pred = knn.predict(userid, itemid, verbose=True)"
   ]
  },
  {
   "cell_type": "code",
   "execution_count": 39,
   "metadata": {},
   "outputs": [],
   "source": [
    "# Create a dictionary to hold the recommendations\n",
    "user_recs = {}\n",
    "\n",
    "# We'll assume you have a list or array of unique user_ids and anime_ids\n",
    "unique_user_ids = merged_df['user_id'].unique()\n",
    "unique_anime_ids = merged_df['anime_id'].unique()\n",
    "\n",
    "# Loop over all users\n",
    "for user_id in unique_user_ids:\n",
    "    # For each user, generate ratings for all animes they haven't rated yet\n",
    "    user_ratings = []\n",
    "    for anime_id in unique_anime_ids:\n",
    "        # Check if this user-anime pair exists in the original DataFrame\n",
    "        if not ((merged_df['user_id'] == user_id) & (merged_df['anime_id'] == anime_id)).any():\n",
    "            # If the user hasn't rated this anime yet, predict the rating\n",
    "            pred_rating = knn.predict(str(user_id), str(anime_id)).est\n",
    "            user_ratings.append((anime_id, pred_rating))\n",
    "    \n",
    "    # Sort the ratings for this user and keep the top N\n",
    "    user_ratings.sort(key=lambda x: x[1], reverse=True)\n",
    "    top_n = user_ratings[:10]  # Keep top 10\n",
    "\n",
    "    # Add the top N ratings to the dictionary\n",
    "    user_recs[user_id] = top_n"
   ]
  },
  {
   "cell_type": "code",
   "execution_count": 40,
   "metadata": {},
   "outputs": [],
   "source": [
    "anime.to_csv(\"anime.csv\")\n",
    "rating.to_csv(\"rating.csv\")"
   ]
  },
  {
   "cell_type": "code",
   "execution_count": 42,
   "metadata": {},
   "outputs": [],
   "source": [
    "# Save the final merged DataFrame to a new CSV file\n",
    "merged_df.to_csv('merged_cleaned.csv', index=False)\n",
    "\n",
    "# Save the user-item matrix to a new CSV file\n",
    "user_item_matrix.to_csv('user_item_matrix.csv')\n",
    "\n",
    "avg_rating_per_genre.to_csv('avg_rating_per_genre.csv')"
   ]
  },
  {
   "cell_type": "markdown",
   "metadata": {
    "azdata_cell_guid": "dedc0bfe-17d0-40b2-914f-2ddb54f9ce0d"
   },
   "source": [
    "## Summarize Your Results\n",
    "\n",
    "Make note of your answers to the following questions.\n",
    "\n",
    "1. Did you find all four types of dirty data in your dataset?\n",
    "Missing Data: In my anime dataset, missing data was found in the 'genre', 'type', and 'rating' columns. This was handled by filling missing values in 'genre' and 'type' with 'Unknown' and removing rows with missing 'rating' data.\n",
    "\n",
    "Outliers: Outliers were detected in the 'rating' and 'members' columns of the anime dataset using the Interquartile Range (IQR) method.\n",
    "\n",
    "Duplicate Data: One duplicate row was found in the ratings dataset and it was removed using the drop_duplicates() function.\n",
    "\n",
    "Inaccurate Data: Inaccurate data may exist in this dataset, but specific instances are not directly found.\n",
    "\n",
    "Inconsistent Data: The inconsistency was found in the 'name' column of the anime dataset. Non-alphanumeric characters were replaced with spaces, extra spaces were removed, and HTML entities were decoded. These actions improved the consistency of the data.\n",
    "2. Did the process of cleaning your data give you new insights into your dataset? Yes\n",
    "3. Is there anything you would like to make note of when it comes to manipulating the data and making visualizations?\n",
    "for the visualization, I think it would be best to filter out my data because having too much can slow the process."
   ]
  }
 ],
 "metadata": {
  "kernelspec": {
   "display_name": "Python 3 (ipykernel)",
   "language": "python",
   "name": "python3"
  },
  "language_info": {
   "codemirror_mode": {
    "name": "ipython",
    "version": 3
   },
   "file_extension": ".py",
   "mimetype": "text/x-python",
   "name": "python",
   "nbconvert_exporter": "python",
   "pygments_lexer": "ipython3",
   "version": "3.9.13"
  }
 },
 "nbformat": 4,
 "nbformat_minor": 2
}
